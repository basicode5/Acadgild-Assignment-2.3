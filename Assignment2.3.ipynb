{
 "cells": [
  {
   "cell_type": "code",
   "execution_count": 1,
   "metadata": {},
   "outputs": [
    {
     "name": "stdout",
     "output_type": "stream",
     "text": [
      "Enter the number of words you want to add on the list 5\n",
      "enter the word : germany\n",
      "enter the word : australia\n",
      "enter the word : india\n",
      "enter the word : pakistan\n",
      "enter the word : brazil\n",
      "longest word is: \n",
      "australia\n"
     ]
    }
   ],
   "source": [
    "def longestword(lst):\n",
    "    old_length = 0\n",
    "    out=0\n",
    "    output = []\n",
    "    for i in range(len(lst)):\n",
    "        length = len(lst[i])\n",
    "        if length > old_length :\n",
    "            out = i\n",
    "            old_length = length\n",
    "            \n",
    "    for j in range(len(lst)):\n",
    "        if len(lst[j])==old_length:\n",
    "            output.append(lst[j])\n",
    "    return output\n",
    "\n",
    "inp = int(input(\"Enter the number of words you want to add on the list \"))\n",
    "inp_lst = []\n",
    "for i in range(inp):\n",
    "    word = input(\"enter the word : \")\n",
    "    inp_lst.append(word)\n",
    "answer = longestword(inp_lst)\n",
    "print(\"longest word is: \")\n",
    "for j in range(len(answer)):\n",
    "    print(answer[j])"
   ]
  },
  {
   "cell_type": "code",
   "execution_count": null,
   "metadata": {},
   "outputs": [],
   "source": []
  }
 ],
 "metadata": {
  "kernelspec": {
   "display_name": "Python 3",
   "language": "python",
   "name": "python3"
  },
  "language_info": {
   "codemirror_mode": {
    "name": "ipython",
    "version": 3
   },
   "file_extension": ".py",
   "mimetype": "text/x-python",
   "name": "python",
   "nbconvert_exporter": "python",
   "pygments_lexer": "ipython3",
   "version": "3.6.4"
  }
 },
 "nbformat": 4,
 "nbformat_minor": 2
}
